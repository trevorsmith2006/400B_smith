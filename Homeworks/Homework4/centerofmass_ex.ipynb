{
 "cells": [
  {
   "cell_type": "code",
   "execution_count": null,
   "metadata": {},
   "outputs": [],
   "source": [
    "# Homework 4\n",
    "# Center of Mass Position and Velocity\n",
    "# write your name here"
   ]
  },
  {
   "cell_type": "markdown",
   "metadata": {},
   "source": [
    "### Keep in mind this is just a template; you don't need to follow every step and feel free to change anything.\n",
    "### We also strongly encourage you to try to develop your own method to solve the homework."
   ]
  },
  {
   "cell_type": "code",
   "execution_count": null,
   "metadata": {
    "ExecuteTime": {
     "end_time": "2020-02-04T23:59:21.657237Z",
     "start_time": "2020-02-04T23:59:21.653687Z"
    }
   },
   "outputs": [],
   "source": [
    "# import modules\n",
    "import numpy as np\n",
    "import astropy.units as u\n",
    "import astropy.table as tbl\n",
    "\n",
    "from ReadFile import Read"
   ]
  },
  {
   "cell_type": "code",
   "execution_count": null,
   "metadata": {
    "ExecuteTime": {
     "end_time": "2020-02-04T23:59:24.003059Z",
     "start_time": "2020-02-04T23:59:23.979271Z"
    }
   },
   "outputs": [],
   "source": [
    "class CenterOfMass:\n",
    "# Class to define COM position and velocity properties of a given galaxy \n",
    "# and simulation snapshot\n",
    "    \n",
    "    \n",
    "    def __init__(self, filename, ptype):\n",
    "    # Initialize the instance of this Class with the following properties:\n",
    "    \n",
    "        # read data in the given file using Read\n",
    "        self.time, self.total, self.data = Read(filename)                                                                                             \n",
    "\n",
    "        #create an array to store indexes of particles of desired Ptype                                \n",
    "        self.index = np.where(self.data['type'] == ptype)\n",
    "\n",
    "        # store the mass, positions, velocities of only the particles of the given type\n",
    "        # the following only gives the example of storing the mass\n",
    "        self.m = self.data['m'][self.index]\n",
    "        # write your own code to complete this for positions and velocities\n",
    "        self.m = \n",
    "        self.x = \n",
    "        self.y = \n",
    "        self.z = \n",
    "        self.vx = \n",
    "        self.vy = \n",
    "        self.vz = \n",
    "\n",
    "\n",
    "    def COMdefine(self,a,b,c,m):\n",
    "    # Function to compute the center of mass position or velocity generically\n",
    "    # input: array (a,b,c) of positions or velocities and the mass\n",
    "    # returns: 3 floats  (the center of mass coordinates)\n",
    "\n",
    "        # write your own code to compute the generic COM using Eq. 1 in the homework instructions\n",
    "        # xcomponent Center of mass\n",
    "        Acom = \n",
    "        # ycomponent Center of mass\n",
    "        Bcom = \n",
    "        # zcomponent Center of mass\n",
    "        Ccom = \n",
    "        \n",
    "        return Acom, Bcom, Ccom\n",
    "    \n",
    "    \n",
    "    def COM_P(self, delta):\n",
    "    # Function to specifically return the center of mass position and velocity                                         \n",
    "    # input:                                                                                                           \n",
    "    #        particle type (1,2,3)                                                                                     \n",
    "    #        delta (tolerance)                                                                                         \n",
    "    # returns: One vector, with rows indicating:                                                                                                                                                                            \n",
    "    #       3D coordinates of the center of mass position (kpc)                                                             \n",
    "\n",
    "        # Center of Mass Position                                                                                      \n",
    "        ###########################                                                                                    \n",
    "\n",
    "        # Try a first guess at the COM position by calling COMdefine                                                   \n",
    "        XCOM, YCOM, ZCOM = self.COMdefine(self.x, self.y, self.z, self.m)\n",
    "        # compute the magnitude of the COM position vector.\n",
    "        # write your own code below\n",
    "        RCOM = \n",
    "\n",
    "\n",
    "        # iterative process to determine the center of mass                                                            \n",
    "\n",
    "        # change reference frame to COM frame                                                                          \n",
    "        # compute the difference between particle coordinates                                                          \n",
    "        # and the first guess at COM position\n",
    "        # write your own code below\n",
    "        xNew = \n",
    "        yNew = \n",
    "        zNew = \n",
    "        RNEW = \n",
    "\n",
    "        # find the max 3D distance of all particles from the guessed COM                                               \n",
    "        # will re-start at half that radius (reduced radius)                                                           \n",
    "        RMAX = max(RNEW)/2.0\n",
    "        \n",
    "        # pick an initial value for the change in COM position                                                      \n",
    "        # between the first guess above and the new one computed from half that volume\n",
    "        # it should be larger than the input tolerance (delta) initially\n",
    "        CHANGE = 1000.0\n",
    "\n",
    "        # start iterative process to determine center of mass position                                                 \n",
    "        # delta is the tolerance for the difference in the old COM and the new one.    \n",
    "        \n",
    "        while (CHANGE > delta):\n",
    "            # select all particles within the reduced radius (starting from original x,y,z, m)\n",
    "            # write your own code below (hints, use np.where)\n",
    "            index2 = \n",
    "            x2 = \n",
    "            y2 = \n",
    "            z2 = \n",
    "            m2 = \n",
    "\n",
    "            # Refined COM position:                                                                                    \n",
    "            # compute the center of mass position using                                                                \n",
    "            # the particles in the reduced radius\n",
    "            # write your own code below\n",
    "            XCOM2, YCOM2, ZCOM2 = \n",
    "            # compute the new 3D COM position\n",
    "            # write your own code below\n",
    "            RCOM2 = \n",
    "\n",
    "            # determine the difference between the previous center of mass position                                    \n",
    "            # and the new one.                                                                                         \n",
    "            CHANGE = np.abs(RCOM - RCOM2)\n",
    "            # uncomment the following line if you wnat to check this                                                                                               \n",
    "            # print (\"CHANGE = \", CHANGE)                                                                                     \n",
    "\n",
    "            # Before loop continues, reset : RMAX, particle separations and COM                                        \n",
    "\n",
    "            # reduce the volume by a factor of 2 again                                                                 \n",
    "            RMAX = RMAX/2.0\n",
    "            # check this.                                                                                              \n",
    "            #print (\"maxR\", maxR)                                                                                      \n",
    "\n",
    "            # Change the frame of reference to the newly computed COM.                                                 \n",
    "            # subtract the new COM\n",
    "            # write your own code below\n",
    "            xNew = \n",
    "            yNew = \n",
    "            zNew = \n",
    "            RNEW = \n",
    "\n",
    "            # set the center of mass positions to the refined values                                                   \n",
    "            XCOM = XCOM2\n",
    "            YCOM = YCOM2\n",
    "            ZCOM = ZCOM2\n",
    "            RCOM = RCOM2\n",
    "\n",
    "            # create a vector to store the COM position                                                                                                                                                       \n",
    "            COMP = [XCOM, YCOM, ZCOM]\n",
    "\n",
    "        # set the correct units usint astropy and round all values\n",
    "        # and then return the COM positon vector\n",
    "        # write your own code below\n",
    "        \n",
    "    \n",
    "\n",
    "    def COM_V(self, COMX,COMY,COMZ):\n",
    "        # Center of Mass velocity\n",
    "        # input: X, Y, Z positions of the COM\n",
    "        # returns 3D Vector of COM Velocities\n",
    "        \n",
    "        # the max distance from the center that we will use to determine the center of mass velocity                   \n",
    "        RVMAX = 15.0*u.kpc\n",
    "\n",
    "        # determine the position of all particles relative to the center of mass position\n",
    "        # write your own code below\n",
    "        xV = \n",
    "        yV = \n",
    "        zV = \n",
    "        RV = \n",
    "        \n",
    "        # determine the index for those particles within the max radius\n",
    "        # write your own code below\n",
    "        indexV = \n",
    "\n",
    "        # determine the velocity and mass of those particles within the mas radius\n",
    "        # write your own code below\n",
    "        vxnew = \n",
    "        vynew = \n",
    "        vznew = \n",
    "        mnew =   \n",
    "        \n",
    "        # compute the center of mass velocity using those particles\n",
    "        # write your own code below\n",
    "        VXCOM, VYCOM, VZCOM = \n",
    "\n",
    "        # create a vector to store the COM velocity\n",
    "        # set the correct units usint astropy\n",
    "        # round all values\n",
    "        # write your own code below\n",
    "        COMV = \n",
    "\n",
    "        # return the COM vector                                                                                        \n",
    "        return COMV"
   ]
  },
  {
   "cell_type": "code",
   "execution_count": null,
   "metadata": {
    "ExecuteTime": {
     "end_time": "2020-02-04T23:59:30.160978Z",
     "start_time": "2020-02-04T23:59:26.220455Z"
    }
   },
   "outputs": [],
   "source": [
    "# Create a Center of mass object for the MW, M31 and M33\n",
    "# below is an example of using the class for MW\n",
    "MWCOM = CenterOfMass(\"MW_000.txt\", 2)"
   ]
  },
  {
   "cell_type": "code",
   "execution_count": null,
   "metadata": {
    "ExecuteTime": {
     "end_time": "2020-02-04T23:59:30.820428Z",
     "start_time": "2020-02-04T23:59:30.761163Z"
    }
   },
   "outputs": [],
   "source": [
    "# below gives you an example of calling the class's functions\n",
    "# MW:   store the position and velocity COM\n",
    "MW_COMP = MWCOM.COM_P(0.1)\n",
    "MW_COMV = MWCOM.COM_V(MW_COMP[0], MW_COMP[1], MW_COMP[2])"
   ]
  },
  {
   "cell_type": "code",
   "execution_count": null,
   "metadata": {},
   "outputs": [],
   "source": [
    "# now write your own code to answer questions"
   ]
  }
 ],
 "metadata": {
  "kernelspec": {
   "display_name": "Python 3",
   "language": "python",
   "name": "python3"
  },
  "language_info": {
   "codemirror_mode": {
    "name": "ipython",
    "version": 3
   },
   "file_extension": ".py",
   "mimetype": "text/x-python",
   "name": "python",
   "nbconvert_exporter": "python",
   "pygments_lexer": "ipython3",
   "version": "3.7.6"
  },
  "varInspector": {
   "cols": {
    "lenName": 16,
    "lenType": 16,
    "lenVar": 40
   },
   "kernels_config": {
    "python": {
     "delete_cmd_postfix": "",
     "delete_cmd_prefix": "del ",
     "library": "var_list.py",
     "varRefreshCmd": "print(var_dic_list())"
    },
    "r": {
     "delete_cmd_postfix": ") ",
     "delete_cmd_prefix": "rm(",
     "library": "var_list.r",
     "varRefreshCmd": "cat(var_dic_list()) "
    }
   },
   "types_to_exclude": [
    "module",
    "function",
    "builtin_function_or_method",
    "instance",
    "_Feature"
   ],
   "window_display": false
  }
 },
 "nbformat": 4,
 "nbformat_minor": 2
}

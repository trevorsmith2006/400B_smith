{
 "cells": [
  {
   "cell_type": "markdown",
   "metadata": {},
   "source": [
    "# In Class Lab 1\n",
    "\n",
    "## Part A:  The Local Standard of Rest\n",
    "Proper motion of Sgr A* from Reid & Brunthaler 2004\n",
    "$\\mu = 6.379$ mas/yr \n",
    "\n",
    "Peculiar motion of the sun, $v_\\odot$ = 12.24 km/s  (Schonrich 2010)\n",
    "\n",
    "\n",
    "$v_{tan} = 4.74 \\frac{\\mu}{\\rm mas/yr} \\frac{R_o}{\\rm kpc} = V_{LSR} + v_\\odot$\n",
    "\n",
    "\n",
    "### a)\n",
    "\n",
    "Create a function called VLSR to compute the local standard of res (V$_{LSR}$).\n",
    "\n",
    "The function should take as input: the solar radius (R$_o$), the proper motion (mu)\n",
    "and the peculiar motion of the sun in the $v_\\odot$ direction.\n",
    "\n",
    "Compute V$_{LSR}$ using three different values R$_o$: \n",
    "1. Water Maser Distance for the Sun :  R$_o$ = 8.34 kpc   (Reid 2014 ApJ 783) \n",
    "2. GRAVITY Collaboration Distance for the Sun:  R$_o$ = 8.178 kpc   (Abuter+2019 A&A 625)\n",
    "3. Value for Distance to Sun listed in Sparke & Gallagher : R$_o$ = 7.9 kpc \n"
   ]
  },
  {
   "cell_type": "code",
   "execution_count": 2,
   "metadata": {},
   "outputs": [],
   "source": [
    "import numpy as np"
   ]
  },
  {
   "cell_type": "code",
   "execution_count": 3,
   "metadata": {},
   "outputs": [],
   "source": [
    "# define function to vompute local standard of rest velocity\n",
    "\n",
    "# 4.74*mu*Ro = Vlsr + Vsun\n",
    "# the function will use the below equation\n",
    "# Vlsr = 4.74*mu*Ro - Vsun\n",
    "\n",
    "def VLSR(Ro, mu=6.379, vsun=12.24):\n",
    "    # Inputs:\n",
    "    # Ro is the distance from the Sun to the galactic center\n",
    "    # mu is proper motion of Sgr A* (mas/yr); default value of 6.379 from Reid & Brunthaler 2004\n",
    "    # vsun is the peculiar motion of the sun in the v direction; default value of 12.24 from Schonrich 2010\n",
    "    # Returns:\n",
    "    # Vlsr, the local standard of rest (km/s)\n",
    "    \n",
    "    return 4.74*mu*Ro - vsun"
   ]
  },
  {
   "cell_type": "code",
   "execution_count": 4,
   "metadata": {},
   "outputs": [],
   "source": [
    "RoReid = 8.34 # distance to the galactic center (kpc) from Reid et. al 2014\n",
    "RoGravity = 8.178 # distance to the galactic center (kpc) from GRAVITY Collaboration, 2019\n",
    "RoSG = 7.9 # distance to the galactic center (kpc) from Sparke & Gallagher "
   ]
  },
  {
   "cell_type": "code",
   "execution_count": 6,
   "metadata": {},
   "outputs": [
    {
     "name": "stdout",
     "output_type": "stream",
     "text": [
      "239.9320764\n"
     ]
    }
   ],
   "source": [
    "# compute Vlsr using Reid 2014 value for Ro\n",
    "VLSR_Reid = VLSR(RoReid)\n",
    "print(VLSR_Reid)"
   ]
  },
  {
   "cell_type": "code",
   "execution_count": 7,
   "metadata": {},
   "outputs": [
    {
     "name": "stdout",
     "output_type": "stream",
     "text": [
      "235.03376988000002\n"
     ]
    }
   ],
   "source": [
    "# compute Vlsr using GRAVITY value for Ro\n",
    "VLSR_Gravity = VLSR(RoGravity)\n",
    "print(VLSR_Gravity)"
   ]
  },
  {
   "cell_type": "markdown",
   "metadata": {},
   "source": [
    "### b)\n",
    "\n",
    "compute the orbital period of the sun using R$_o$ from the GRAVITY Collaboration (assume circular orbit)\n",
    "\n",
    "Note that 1 km/s $\\sim$ 1kpc/Gyr"
   ]
  },
  {
   "cell_type": "code",
   "execution_count": 9,
   "metadata": {},
   "outputs": [
    {
     "name": "stdout",
     "output_type": "stream",
     "text": [
      "0.20780161788713317\n"
     ]
    }
   ],
   "source": [
    "# computing the orbital period of the sun using Ro from GRAVITY Collaboration\n",
    "# T = 2piR/v -- units: kpc/(km/s) = kpc/(kpc/Gyr) = Gyr\n",
    "# V = Vtan = Vlsr + Vsun\n",
    "vtan = VLSR_Gravity + 12.24\n",
    "T_Gravity = 2*np.pi*RoGravity/vtan\n",
    "print(T_Gravity)"
   ]
  },
  {
   "cell_type": "markdown",
   "metadata": {},
   "source": [
    "### c)\n",
    "\n",
    "Compute the number of rotations about the GC over the age of the universe (13.8 Gyr)"
   ]
  },
  {
   "cell_type": "code",
   "execution_count": 10,
   "metadata": {},
   "outputs": [
    {
     "name": "stdout",
     "output_type": "stream",
     "text": [
      "66.40949257428511\n"
     ]
    }
   ],
   "source": [
    "# determine the number of rotations around the galactic center\n",
    "# Age of the universe / orbital period\n",
    "print(13.8/T_Gravity)"
   ]
  },
  {
   "cell_type": "markdown",
   "metadata": {},
   "source": [
    "## Part B  Dark Matter Density Profiles\n",
    "\n",
    "### a)\n",
    "Try out Fitting Rotation Curves \n",
    "[here](http://wittman.physics.ucdavis.edu/Animations/RotationCurve/GalacticRotation.html)\n",
    "\n",
    "\n",
    "### b)\n",
    "\n",
    "In the Isothermal Sphere model, what is the mass enclosed within the solar radius (R$_o$) in units of $10^{10}$ M$_\\odot$? \n",
    "\n",
    "Recall that for the Isothermal sphere :\n",
    "$\\rho(r) = \\frac{V_{LSR}^2}{4\\pi G r^2}$\n",
    "\n",
    "Where $G$ = 4.4988e-6 kpc$^3$/Gyr$^2$/M$_\\odot$\n",
    "\n",
    "What about at 260 kpc (in units of 10$^{12}$ M$_\\odot$) ? "
   ]
  },
  {
   "cell_type": "code",
   "execution_count": 13,
   "metadata": {},
   "outputs": [],
   "source": [
    "# gravitational constant\n",
    "G = 4.4988e-6 # kpc^3/Gyr^2/M_sun"
   ]
  },
  {
   "cell_type": "code",
   "execution_count": 12,
   "metadata": {},
   "outputs": [],
   "source": [
    "# compute the mass enclosed within a given radius using the Isothermal Sphere Model\n",
    "# density profile rho = VLSR^2/(4piGRo^2)\n",
    "# mass = integrate rho (w.r.t. dv = 4*pi*r^2*dr)\n",
    "    # integrate rho 4*pi*r^2*dr\n",
    "    # integrate Vlsr^2/G dr\n",
    "    # = Vlsr^2/G * r\n",
    "\n",
    "def MassIso(r, VLSR = 235):\n",
    "    # input:\n",
    "    # vlsr, the local standard of rest (km/s); default VLSR from Gravity Collaboration, defined above\n",
    "    # r is the distance from the galactic center (kpc)\n",
    "    # return:\n",
    "    # mass enclosed in solar masses\n",
    "    return VLSR**2 / G * r"
   ]
  },
  {
   "cell_type": "code",
   "execution_count": 14,
   "metadata": {},
   "outputs": [
    {
     "name": "stdout",
     "output_type": "stream",
     "text": [
      "10.038900373432917\n"
     ]
    }
   ],
   "source": [
    "# calculate the mass enclosed by the sun's radial position\n",
    "MIsoSolar = MassIso(RoGravity)\n",
    "print(MIsoSolar/1e10) # in units of 1e10 Msun"
   ]
  },
  {
   "cell_type": "code",
   "execution_count": 15,
   "metadata": {},
   "outputs": [
    {
     "name": "stdout",
     "output_type": "stream",
     "text": [
      "3.191628878812128\n"
     ]
    }
   ],
   "source": [
    "# calculate the mass enclosed at r = 260 kpc\n",
    "MIso260 = MassIso(260)\n",
    "print(MIso260/1e12) # units of 1e12 Msun"
   ]
  },
  {
   "cell_type": "markdown",
   "metadata": {},
   "source": [
    "## c) \n",
    "\n",
    "The Leo I satellite is one of the fastest moving satellite galaxies we know. \n",
    "\n",
    "\n",
    "It is moving with 3D velocity of magnitude: Vtot = 196 km/s at a distance of 260 kpc (Sohn 2013 ApJ 768)\n",
    "\n",
    "If we assume that Leo I is moving at the escape speed:\n",
    "\n",
    "$v_{esc}^2 = 2|\\Phi| = 2 \\int G \\frac{\\rho(r)}{r}dV $ \n",
    "\n",
    "and assuming the Milky Way is well modeled by a Hernquist Sphere with a scale radius of $a$= 30 kpc, what is the minimum mass of the Milky Way (in units of $10^{12}$ M$_\\odot$) ?  \n",
    "\n",
    "How does this compare to estimates of the mass assuming the Isothermal Sphere model at 260 kpc (from your answer above)"
   ]
  },
  {
   "cell_type": "code",
   "execution_count": 16,
   "metadata": {},
   "outputs": [],
   "source": [
    "# potential for a Hernquist Sphere:\n",
    "# phi = -GM/(r+a)\n",
    "\n",
    "# Using the Hernquist Potential, the equation for the escape speed becomes\n",
    "# vesc^2 = 2GM/(r+a)\n",
    "\n",
    "# Rearranging the escape equation for M\n",
    "# M = vesc^2/2/G*(r+a)\n",
    "#    = 196^2/2/g*(260+30)\n",
    "\n",
    "# function that will determine the total halo mass needed to set a given escape at a given distance,\n",
    "# assuming a Hernquist profile for the dark matter halo\n",
    "\n",
    "def MassFromVesc(vesc,a,r):\n",
    "    # Inputs:\n",
    "    # vesc the escape speed in km/s (or the speed of the satellite)\n",
    "    # r is the distance from the Galactic center (kpc)\n",
    "    # a = Hernquist scale length (kpc)\n",
    "    # Returns:\n",
    "    # total mass in Msun\n",
    "    \n",
    "    return vesc**2/2/G*(r+a)"
   ]
  },
  {
   "cell_type": "code",
   "execution_count": 17,
   "metadata": {},
   "outputs": [
    {
     "name": "stdout",
     "output_type": "stream",
     "text": [
      "1.2005657064105983\n"
     ]
    }
   ],
   "source": [
    "# mass needed to keep Leo1 bound assuming a Hernquist profile\n",
    "MLeo1 = MassFromVesc(193,30,260)\n",
    "print(MLeo1/1e12)"
   ]
  },
  {
   "cell_type": "code",
   "execution_count": 18,
   "metadata": {},
   "outputs": [
    {
     "name": "stdout",
     "output_type": "stream",
     "text": [
      "0.3761608106696382\n"
     ]
    }
   ],
   "source": [
    "# compute the ratio of the two above estimates\n",
    "print(MLeo1/MIso260)"
   ]
  }
 ],
 "metadata": {
  "kernelspec": {
   "display_name": "Python 3",
   "language": "python",
   "name": "python3"
  },
  "language_info": {
   "codemirror_mode": {
    "name": "ipython",
    "version": 3
   },
   "file_extension": ".py",
   "mimetype": "text/x-python",
   "name": "python",
   "nbconvert_exporter": "python",
   "pygments_lexer": "ipython3",
   "version": "3.7.1"
  }
 },
 "nbformat": 4,
 "nbformat_minor": 2
}

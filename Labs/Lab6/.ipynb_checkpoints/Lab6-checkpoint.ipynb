{
 "cells": [
  {
   "cell_type": "code",
   "execution_count": 1,
   "metadata": {
    "collapsed": true
   },
   "outputs": [],
   "source": [
    "# In Class Lab 6\n",
    "# Surface Brightness Profiles"
   ]
  },
  {
   "cell_type": "code",
   "execution_count": 2,
   "metadata": {
    "collapsed": true
   },
   "outputs": [],
   "source": [
    "# Load Modules\n",
    "import numpy as np\n",
    "import astropy.units as u\n",
    "\n",
    "# import plotting modules\n",
    "import matplotlib.pyplot as plt\n",
    "import matplotlib\n",
    "%matplotlib inline\n",
    "\n",
    "# my modules\n",
    "from ReadFile import Read\n",
    "from CenterOfMass import CenterOfMass\n",
    "from MassProfile import MassProfile"
   ]
  },
  {
   "cell_type": "markdown",
   "metadata": {},
   "source": [
    "# Lab 6: Sersic Profiles\n",
    "\n",
    "In this lab we will use Homework 5 solutions to compute the mass profile of the Milky Way's bulge. \n",
    "We will turn the mass profile into a density profile and see if we can fit it reasonably well \n",
    "with a sersic profile. "
   ]
  },
  {
   "cell_type": "markdown",
   "metadata": {},
   "source": [
    "# Part A : \n",
    "\n",
    "Create a function called `SersicE` that returns the Sersic Profile in terms of the effective radius $R_e$ (i.e. the half light radius).\n",
    "\n",
    "$I(r) = I_e exp^{-7.67 ( (r/R_e)^{1/n} - 1)}$\n",
    "\n",
    "Where \n",
    "\n",
    "$ L = 7.2 I_e \\pi R_e^2$\n",
    "\n",
    "and  $R_e$ is the half light radius.  We will assume a mass to light ratio for the stellar bulge of 1, so this is also the half mass radius.\n",
    "\n",
    "The function should take as input: the radius, $R_e$, $n$ and the total stellar mass of the system.\n"
   ]
  },
  {
   "cell_type": "code",
   "execution_count": 20,
   "metadata": {
    "collapsed": true
   },
   "outputs": [],
   "source": [
    "# function that will return the Sersic Profile for an elliptical system\n",
    "def SersicE(R,Re,n,Mtot):\n",
    "    \"\"\"\n",
    "    Inputs:\n",
    "        R = array of radii (kpc)\n",
    "        Re = half-mass radius (kpc)\n",
    "        n = Sersic index\n",
    "        Mtot = total stellar mass (Msun)\n",
    "    Outputs:\n",
    "        Surface brightness profile (Lsun/kpc^2)\n",
    "    \"\"\"\n",
    "    # assuming M/L = 1\n",
    "    L = Mtot # total luminosity = total stellar mass\n",
    "    \n",
    "    # Ie = L/(7.2 pi Re^2)\n",
    "    Ie = L/(7.2*np.pi*Re**2)\n",
    "    \n",
    "    # exponent\n",
    "    A = (R/Re)**(1/n) - 1\n",
    "    \n",
    "    return Ie*np.exp(-7.67*A)"
   ]
  },
  {
   "cell_type": "markdown",
   "metadata": {},
   "source": [
    "# Part B\n",
    "\n",
    "a) Create an instance of the MassProfile Class for the MW. Store it as a variable `MW`. \n"
   ]
  },
  {
   "cell_type": "code",
   "execution_count": 5,
   "metadata": {
    "collapsed": true
   },
   "outputs": [],
   "source": [
    "M31 = MassProfile('M31',0)"
   ]
  },
  {
   "cell_type": "markdown",
   "metadata": {},
   "source": [
    "b) Create an array of radii from 0.1 kpc to 30 kpc in increments of 0.1\n"
   ]
  },
  {
   "cell_type": "code",
   "execution_count": 6,
   "metadata": {
    "collapsed": true
   },
   "outputs": [],
   "source": [
    "R = np.arange(0.1,30,0.1)"
   ]
  },
  {
   "cell_type": "markdown",
   "metadata": {},
   "source": [
    "c) Define a new array called `BulgeMass`, that uses the function `MassEnclosed` within MassProfile to compute the mass profile of the bulge.  Get rid of astropy units in `BulgeMass` by adding `.value` \n"
   ]
  },
  {
   "cell_type": "code",
   "execution_count": 7,
   "metadata": {
    "collapsed": true
   },
   "outputs": [],
   "source": [
    "BulgeMass = M31.MassEnclosed(3,R) # particle type 3: bulge stars"
   ]
  },
  {
   "cell_type": "code",
   "execution_count": 8,
   "metadata": {},
   "outputs": [
    {
     "data": {
      "text/latex": [
       "$4.438643 \\times 10^{9} \\; \\mathrm{M_{\\odot}}$"
      ],
      "text/plain": [
       "<Quantity 4438643010.0 solMass>"
      ]
     },
     "execution_count": 8,
     "metadata": {},
     "output_type": "execute_result"
    }
   ],
   "source": [
    "BulgeMass[10]\n"
   ]
  },
  {
   "cell_type": "markdown",
   "metadata": {},
   "source": [
    "d) Compute the surface mass density profile for the simulated bulge and store it as an array called `BulgeI`. Assuming M/L ~ 1 this is also the surface brightness profile in Lsun/kpc^2"
   ]
  },
  {
   "cell_type": "code",
   "execution_count": 9,
   "metadata": {
    "collapsed": true
   },
   "outputs": [],
   "source": [
    "# I = L/4piD^2\n",
    "BulgeI = BulgeMass/4/np.pi/R**2"
   ]
  },
  {
   "cell_type": "markdown",
   "metadata": {},
   "source": [
    "# Part C\n",
    "\n",
    "Compute $R_e$, the half mass radius, for the bulge"
   ]
  },
  {
   "cell_type": "code",
   "execution_count": 11,
   "metadata": {
    "collapsed": true
   },
   "outputs": [],
   "source": [
    "BulgeTotal = np.max(BulgeMass) # total mass of bulge stars"
   ]
  },
  {
   "cell_type": "code",
   "execution_count": 12,
   "metadata": {
    "collapsed": true
   },
   "outputs": [],
   "source": [
    "Low = BulgeTotal/2\n",
    "High = Low*1.01"
   ]
  },
  {
   "cell_type": "code",
   "execution_count": 16,
   "metadata": {},
   "outputs": [],
   "source": [
    "index = np.where((BulgeMass>Low) & (BulgeMass<High))"
   ]
  },
  {
   "cell_type": "code",
   "execution_count": 17,
   "metadata": {
    "collapsed": true
   },
   "outputs": [],
   "source": [
    "Re = R[index]"
   ]
  },
  {
   "cell_type": "code",
   "execution_count": 25,
   "metadata": {},
   "outputs": [
    {
     "data": {
      "text/latex": [
       "$[8.9294228 \\times 10^{9}] \\; \\mathrm{M_{\\odot}}$"
      ],
      "text/plain": [
       "<Quantity [  8.92942278e+09] solMass>"
      ]
     },
     "execution_count": 25,
     "metadata": {},
     "output_type": "execute_result"
    }
   ],
   "source": [
    "BulgeMass[index]\n"
   ]
  },
  {
   "cell_type": "code",
   "execution_count": 26,
   "metadata": {},
   "outputs": [
    {
     "data": {
      "text/latex": [
       "$8.9193965 \\times 10^{9} \\; \\mathrm{M_{\\odot}}$"
      ],
      "text/plain": [
       "<Quantity 8919396479.999996 solMass>"
      ]
     },
     "execution_count": 26,
     "metadata": {},
     "output_type": "execute_result"
    }
   ],
   "source": [
    "BulgeTotal/2"
   ]
  },
  {
   "cell_type": "markdown",
   "metadata": {},
   "source": [
    "# Part D\n",
    "\n",
    "a) Plot the surface density profile of the simulated bulge\n",
    "\n",
    "b) Plot the Sersic profile, assuming a de Vaucouleurs Profile.\n",
    "\n",
    "c) If the profiles don't match, try changing either $R_e$ or $n$"
   ]
  },
  {
   "cell_type": "code",
   "execution_count": 30,
   "metadata": {},
   "outputs": [
    {
     "data": {
      "image/png": "[encoded data removed]",
      "text/plain": [
       "<matplotlib.figure.Figure at 0x7f1fd10720b8>"
      ]
     },
     "metadata": {},
     "output_type": "display_data"
    }
   ],
   "source": [
    "# Plot the Bulge density profile vs \n",
    "# the Sersic profile\n",
    "####################################\n",
    "\n",
    "\n",
    "fig = plt.figure(figsize=(10,10))\n",
    "ax = plt.subplot(111)\n",
    "\n",
    "\n",
    "# plot the bulge luminosity density as a proxy for surface brighntess\n",
    "plt.semilogy(R,BulgeI, color='black',linewidth=3, label='Bulge Density')\n",
    "\n",
    "\n",
    "# YOU ADD HERE: Sersic fit to the surface brightness Sersic fit\n",
    "# Sersic \n",
    "plt.semilogy(R,SersicE(R,Re,5.3,BulgeTotal),color='r',linestyle='-.',linewidth=3,label='Sersic n=5.3')\n",
    "plt.semilogy(R,SersicE(R,Re,5.4,BulgeTotal),color='g',linestyle='-.',linewidth=3,label='Sersic n=5.4')\n",
    "plt.semilogy(R,SersicE(R,Re,5.5,BulgeTotal),color='m',linestyle='-.',linewidth=3,label='Sersic n=5.5')\n",
    "\n",
    "\n",
    "\n",
    "#adjust tick label font size\n",
    "label_size = 22\n",
    "matplotlib.rcParams['xtick.labelsize'] = label_size \n",
    "matplotlib.rcParams['ytick.labelsize'] = label_size\n",
    "\n",
    "\n",
    "# Add axis labels\n",
    "plt.xlabel('Radius (kpc)', fontsize=22)\n",
    "plt.ylabel('Log(I)  $L_\\odot/kpc^2$', fontsize=22)\n",
    "\n",
    "\n",
    "\n",
    "# add a legend with some customizations.\n",
    "legend = ax.legend(loc='upper right',fontsize='x-large')\n"
   ]
  },
  {
   "cell_type": "code",
   "execution_count": null,
   "metadata": {
    "collapsed": true
   },
   "outputs": [],
   "source": []
  }
 ],
 "metadata": {
  "kernelspec": {
   "display_name": "Python 3",
   "language": "python",
   "name": "python3"
  },
  "language_info": {
   "codemirror_mode": {
    "name": "ipython",
    "version": 3
   },
   "file_extension": ".py",
   "mimetype": "text/x-python",
   "name": "python",
   "nbconvert_exporter": "python",
   "pygments_lexer": "ipython3",
   "version": "3.6.3"
  }
 },
 "nbformat": 4,
 "nbformat_minor": 2
}
